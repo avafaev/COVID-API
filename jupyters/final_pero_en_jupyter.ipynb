{
 "cells": [
  {
   "cell_type": "code",
   "execution_count": 1,
   "metadata": {},
   "outputs": [],
   "source": [
    "from data_download import descargar_y_guardar_json\n",
    "from generar_json import generar_pais_ciudad\n",
    "from pyspark.sql import SparkSession\n",
    "from pyspark.sql.functions import lit, to_date, col, monotonically_increasing_id, explode, array, rand, floor, date_add\n",
    "from pyspark.sql.types import IntegerType, LongType, DoubleType\n",
    "import pandas as pd\n",
    "import random"
   ]
  },
  {
   "cell_type": "code",
   "execution_count": 2,
   "metadata": {},
   "outputs": [],
   "source": [
    "# Configurar la sesión de Spark\n",
    "spark = SparkSession.builder \\\n",
    "    .appName(\"Transformación de datos COVID 2\") \\\n",
    "    .getOrCreate()"
   ]
  },
  {
   "cell_type": "code",
   "execution_count": 3,
   "metadata": {},
   "outputs": [],
   "source": [
    "def expand_df(df_entrada):\n",
    "    df_with_id = df_entrada.withColumn(\"temp_id\", monotonically_increasing_id())\n",
    "    ids = array([(lit(i)) for i in range(1, 7)])\n",
    "    tabla_duplicada = df_with_id.withColumn(\"id\", explode(ids))\n",
    "    \n",
    "    columnas = [\"id\"] + [c for c in df_with_id.columns if c != \"temp_id\"]\n",
    "    tabla_duplicada = tabla_duplicada.select(columnas)\n",
    "\n",
    "    # Multiplicar columnas numéricas por un factor aleatorio entre 1 y 2.1, y redondear sin decimales\n",
    "    for col_name in df_entrada.columns:\n",
    "        # Verificar si el tipo de la columna es numérico y no es la columna 'date'\n",
    "        if isinstance(df_entrada.schema[col_name].dataType, (DoubleType, IntegerType, LongType)) and col_name != \"date\":\n",
    "            # Multiplicar, redondear hacia abajo y convertir a entero\n",
    "            tabla_duplicada = tabla_duplicada.withColumn(col_name, floor(col(col_name) * (1 + rand() * 1.1)))\n",
    "        \n",
    "    # Transformar columna de date a Fecha de regalo\n",
    "    tabla_duplicada = tabla_duplicada.withColumn('date', to_date(col('date').cast(\"string\"), 'yyyyMMdd'))\n",
    "\n",
    "    return tabla_duplicada"
   ]
  },
  {
   "cell_type": "markdown",
   "metadata": {},
   "source": [
    "    Generar json"
   ]
  },
  {
   "cell_type": "code",
   "execution_count": 4,
   "metadata": {},
   "outputs": [
    {
     "name": "stdout",
     "output_type": "stream",
     "text": [
      "Datos guardados exitosamente en ./downloads/datos_covid.json\n"
     ]
    }
   ],
   "source": [
    "fecha = 20200506\n",
    "url = f\"https://api.covidtracking.com/v1/us/{fecha}.json\"\n",
    "ruta_archivo = \"./downloads/datos_covid.json\"\n",
    "descargar_y_guardar_json(url, ruta_archivo)"
   ]
  },
  {
   "cell_type": "markdown",
   "metadata": {},
   "source": [
    "    Leer el archivo JSON como DataFrame Spark"
   ]
  },
  {
   "cell_type": "code",
   "execution_count": 5,
   "metadata": {},
   "outputs": [],
   "source": [
    "json_entrada = spark.read.json('./downloads/datos_covid.json')"
   ]
  },
  {
   "cell_type": "code",
   "execution_count": 6,
   "metadata": {},
   "outputs": [
    {
     "name": "stdout",
     "output_type": "stream",
     "text": [
      "+--------+--------------------+-----+-------------+--------------------+------------+----------------------+---------------------+--------------------+---------------+--------------+--------------------+--------+----------------+----------------------+---------------------+-------+------+--------+----------------+---------+------+-----+----------------+------------------------+\n",
      "|    date|         dateChecked|death|deathIncrease|                hash|hospitalized|hospitalizedCumulative|hospitalizedCurrently|hospitalizedIncrease|inIcuCumulative|inIcuCurrently|        lastModified|negative|negativeIncrease|onVentilatorCumulative|onVentilatorCurrently|pending|posNeg|positive|positiveIncrease|recovered|states|total|totalTestResults|totalTestResultsIncrease|\n",
      "+--------+--------------------+-----+-------------+--------------------+------------+----------------------+---------------------+--------------------+---------------+--------------+--------------------+--------+----------------+----------------------+---------------------+-------+------+--------+----------------+---------+------+-----+----------------+------------------------+\n",
      "|20200506|2020-05-06T24:00:00Z|69636|         1931|9bb52e41a6d7dce6b...|       60513|                 60513|                52607|                1505|           4911|         13196|2020-05-06T24:00:00Z| 2876361|           98543|                   449|                 4758|   3008|     0| 1230844|           25312|     null|    56|    0|         8293548|                  293617|\n",
      "+--------+--------------------+-----+-------------+--------------------+------------+----------------------+---------------------+--------------------+---------------+--------------+--------------------+--------+----------------+----------------------+---------------------+-------+------+--------+----------------+---------+------+-----+----------------+------------------------+\n",
      "\n"
     ]
    }
   ],
   "source": [
    "json_entrada.show()"
   ]
  },
  {
   "cell_type": "markdown",
   "metadata": {},
   "source": [
    "    Multiplicar las columnas asignando un 'id'"
   ]
  },
  {
   "cell_type": "code",
   "execution_count": 7,
   "metadata": {},
   "outputs": [],
   "source": [
    "json_mult = expand_df(json_entrada)"
   ]
  },
  {
   "cell_type": "code",
   "execution_count": 8,
   "metadata": {},
   "outputs": [
    {
     "name": "stdout",
     "output_type": "stream",
     "text": [
      "+---+----------+--------------------+------+-------------+--------------------+------------+----------------------+---------------------+--------------------+---------------+--------------+--------------------+--------+----------------+----------------------+---------------------+-------+------+--------+----------------+---------+------+-----+----------------+------------------------+\n",
      "| id|      date|         dateChecked| death|deathIncrease|                hash|hospitalized|hospitalizedCumulative|hospitalizedCurrently|hospitalizedIncrease|inIcuCumulative|inIcuCurrently|        lastModified|negative|negativeIncrease|onVentilatorCumulative|onVentilatorCurrently|pending|posNeg|positive|positiveIncrease|recovered|states|total|totalTestResults|totalTestResultsIncrease|\n",
      "+---+----------+--------------------+------+-------------+--------------------+------------+----------------------+---------------------+--------------------+---------------+--------------+--------------------+--------+----------------+----------------------+---------------------+-------+------+--------+----------------+---------+------+-----+----------------+------------------------+\n",
      "|  1|2020-05-06|2020-05-06T24:00:00Z|100544|         3896|9bb52e41a6d7dce6b...|       83628|                 87112|                59203|                2229|           5855|         23349|2020-05-06T24:00:00Z| 5517163|          199604|                   855|                 8502|   4251|     0| 2025929|           33894|     null|   116|    0|        12145819|                  472138|\n",
      "|  2|2020-05-06|2020-05-06T24:00:00Z| 93396|         3225|9bb52e41a6d7dce6b...|      114818|                104167|                93005|                1938|           6773|         23675|2020-05-06T24:00:00Z| 3627039|          107331|                   865|                 8996|   4314|     0| 2249563|           31780|     null|    90|    0|        15543066|                  593467|\n",
      "|  3|2020-05-06|2020-05-06T24:00:00Z| 91671|         2483|9bb52e41a6d7dce6b...|      116206|                113248|                90811|                1507|           7799|         19851|2020-05-06T24:00:00Z| 5632642|          126010|                   866|                 8777|   4353|     0| 1963036|           29871|     null|    80|    0|        14460912|                  528023|\n",
      "|  4|2020-05-06|2020-05-06T24:00:00Z| 74074|         2701|9bb52e41a6d7dce6b...|       60515|                 76339|               102384|                2480|           6207|         21153|2020-05-06T24:00:00Z| 3113823|          150556|                   630|                 9938|   5983|     0| 2059622|           46993|     null|    83|    0|         8899345|                  331874|\n",
      "|  5|2020-05-06|2020-05-06T24:00:00Z|128222|         2839|9bb52e41a6d7dce6b...|       70430|                 96021|                96107|                2091|           7763|         21839|2020-05-06T24:00:00Z| 5772681|          198130|                   731|                 7579|   5367|     0| 1739751|           48677|     null|    79|    0|         9380606|                  328987|\n",
      "|  6|2020-05-06|2020-05-06T24:00:00Z|117226|         3839|9bb52e41a6d7dce6b...|      112769|                126212|                82207|                1900|           6468|         15235|2020-05-06T24:00:00Z| 5020357|          206694|                   626|                 8298|   4999|     0| 2124147|           50210|     null|   107|    0|        17311779|                  432658|\n",
      "+---+----------+--------------------+------+-------------+--------------------+------------+----------------------+---------------------+--------------------+---------------+--------------+--------------------+--------+----------------+----------------------+---------------------+-------+------+--------+----------------+---------+------+-----+----------------+------------------------+\n",
      "\n"
     ]
    }
   ],
   "source": [
    "json_mult.show()"
   ]
  },
  {
   "cell_type": "markdown",
   "metadata": {},
   "source": [
    "    Generar e Importar ciudades y paises"
   ]
  },
  {
   "cell_type": "code",
   "execution_count": 9,
   "metadata": {},
   "outputs": [
    {
     "name": "stdout",
     "output_type": "stream",
     "text": [
      "Datos de ciudades y países guardados exitosamente en la carpeta 'g_datos'\n"
     ]
    }
   ],
   "source": [
    "generar_pais_ciudad()"
   ]
  },
  {
   "cell_type": "code",
   "execution_count": 10,
   "metadata": {},
   "outputs": [
    {
     "ename": "FileNotFoundError",
     "evalue": "File ./d_generados/ciudades.json does not exist",
     "output_type": "error",
     "traceback": [
      "\u001b[1;31m---------------------------------------------------------------------------\u001b[0m",
      "\u001b[1;31mFileNotFoundError\u001b[0m                         Traceback (most recent call last)",
      "Cell \u001b[1;32mIn[10], line 2\u001b[0m\n\u001b[0;32m      1\u001b[0m \u001b[38;5;66;03m# Cargar el archivo JSON utilizando Pandas\u001b[39;00m\n\u001b[1;32m----> 2\u001b[0m pandas_ciudades \u001b[38;5;241m=\u001b[39m \u001b[43mpd\u001b[49m\u001b[38;5;241;43m.\u001b[39;49m\u001b[43mread_json\u001b[49m\u001b[43m(\u001b[49m\u001b[38;5;124;43m\"\u001b[39;49m\u001b[38;5;124;43m./d_generados/ciudades.json\u001b[39;49m\u001b[38;5;124;43m\"\u001b[39;49m\u001b[43m)\u001b[49m\n\u001b[0;32m      3\u001b[0m pandas_paises \u001b[38;5;241m=\u001b[39m pd\u001b[38;5;241m.\u001b[39mread_json(\u001b[38;5;124m\"\u001b[39m\u001b[38;5;124m./d_generados/paises.json\u001b[39m\u001b[38;5;124m\"\u001b[39m)\n\u001b[0;32m      5\u001b[0m \u001b[38;5;66;03m# Convertir el DataFrame de Pandas a un DataFrame de Spark\u001b[39;00m\n",
      "File \u001b[1;32mc:\\Users\\xskyd\\miniconda3\\lib\\site-packages\\pandas\\io\\json\\_json.py:780\u001b[0m, in \u001b[0;36mread_json\u001b[1;34m(path_or_buf, orient, typ, dtype, convert_axes, convert_dates, keep_default_dates, precise_float, date_unit, encoding, encoding_errors, lines, chunksize, compression, nrows, storage_options, dtype_backend, engine)\u001b[0m\n\u001b[0;32m    777\u001b[0m \u001b[38;5;28;01mif\u001b[39;00m convert_axes \u001b[38;5;129;01mis\u001b[39;00m \u001b[38;5;28;01mNone\u001b[39;00m \u001b[38;5;129;01mand\u001b[39;00m orient \u001b[38;5;241m!=\u001b[39m \u001b[38;5;124m\"\u001b[39m\u001b[38;5;124mtable\u001b[39m\u001b[38;5;124m\"\u001b[39m:\n\u001b[0;32m    778\u001b[0m     convert_axes \u001b[38;5;241m=\u001b[39m \u001b[38;5;28;01mTrue\u001b[39;00m\n\u001b[1;32m--> 780\u001b[0m json_reader \u001b[38;5;241m=\u001b[39m \u001b[43mJsonReader\u001b[49m\u001b[43m(\u001b[49m\n\u001b[0;32m    781\u001b[0m \u001b[43m    \u001b[49m\u001b[43mpath_or_buf\u001b[49m\u001b[43m,\u001b[49m\n\u001b[0;32m    782\u001b[0m \u001b[43m    \u001b[49m\u001b[43morient\u001b[49m\u001b[38;5;241;43m=\u001b[39;49m\u001b[43morient\u001b[49m\u001b[43m,\u001b[49m\n\u001b[0;32m    783\u001b[0m \u001b[43m    \u001b[49m\u001b[43mtyp\u001b[49m\u001b[38;5;241;43m=\u001b[39;49m\u001b[43mtyp\u001b[49m\u001b[43m,\u001b[49m\n\u001b[0;32m    784\u001b[0m \u001b[43m    \u001b[49m\u001b[43mdtype\u001b[49m\u001b[38;5;241;43m=\u001b[39;49m\u001b[43mdtype\u001b[49m\u001b[43m,\u001b[49m\n\u001b[0;32m    785\u001b[0m \u001b[43m    \u001b[49m\u001b[43mconvert_axes\u001b[49m\u001b[38;5;241;43m=\u001b[39;49m\u001b[43mconvert_axes\u001b[49m\u001b[43m,\u001b[49m\n\u001b[0;32m    786\u001b[0m \u001b[43m    \u001b[49m\u001b[43mconvert_dates\u001b[49m\u001b[38;5;241;43m=\u001b[39;49m\u001b[43mconvert_dates\u001b[49m\u001b[43m,\u001b[49m\n\u001b[0;32m    787\u001b[0m \u001b[43m    \u001b[49m\u001b[43mkeep_default_dates\u001b[49m\u001b[38;5;241;43m=\u001b[39;49m\u001b[43mkeep_default_dates\u001b[49m\u001b[43m,\u001b[49m\n\u001b[0;32m    788\u001b[0m \u001b[43m    \u001b[49m\u001b[43mprecise_float\u001b[49m\u001b[38;5;241;43m=\u001b[39;49m\u001b[43mprecise_float\u001b[49m\u001b[43m,\u001b[49m\n\u001b[0;32m    789\u001b[0m \u001b[43m    \u001b[49m\u001b[43mdate_unit\u001b[49m\u001b[38;5;241;43m=\u001b[39;49m\u001b[43mdate_unit\u001b[49m\u001b[43m,\u001b[49m\n\u001b[0;32m    790\u001b[0m \u001b[43m    \u001b[49m\u001b[43mencoding\u001b[49m\u001b[38;5;241;43m=\u001b[39;49m\u001b[43mencoding\u001b[49m\u001b[43m,\u001b[49m\n\u001b[0;32m    791\u001b[0m \u001b[43m    \u001b[49m\u001b[43mlines\u001b[49m\u001b[38;5;241;43m=\u001b[39;49m\u001b[43mlines\u001b[49m\u001b[43m,\u001b[49m\n\u001b[0;32m    792\u001b[0m \u001b[43m    \u001b[49m\u001b[43mchunksize\u001b[49m\u001b[38;5;241;43m=\u001b[39;49m\u001b[43mchunksize\u001b[49m\u001b[43m,\u001b[49m\n\u001b[0;32m    793\u001b[0m \u001b[43m    \u001b[49m\u001b[43mcompression\u001b[49m\u001b[38;5;241;43m=\u001b[39;49m\u001b[43mcompression\u001b[49m\u001b[43m,\u001b[49m\n\u001b[0;32m    794\u001b[0m \u001b[43m    \u001b[49m\u001b[43mnrows\u001b[49m\u001b[38;5;241;43m=\u001b[39;49m\u001b[43mnrows\u001b[49m\u001b[43m,\u001b[49m\n\u001b[0;32m    795\u001b[0m \u001b[43m    \u001b[49m\u001b[43mstorage_options\u001b[49m\u001b[38;5;241;43m=\u001b[39;49m\u001b[43mstorage_options\u001b[49m\u001b[43m,\u001b[49m\n\u001b[0;32m    796\u001b[0m \u001b[43m    \u001b[49m\u001b[43mencoding_errors\u001b[49m\u001b[38;5;241;43m=\u001b[39;49m\u001b[43mencoding_errors\u001b[49m\u001b[43m,\u001b[49m\n\u001b[0;32m    797\u001b[0m \u001b[43m    \u001b[49m\u001b[43mdtype_backend\u001b[49m\u001b[38;5;241;43m=\u001b[39;49m\u001b[43mdtype_backend\u001b[49m\u001b[43m,\u001b[49m\n\u001b[0;32m    798\u001b[0m \u001b[43m    \u001b[49m\u001b[43mengine\u001b[49m\u001b[38;5;241;43m=\u001b[39;49m\u001b[43mengine\u001b[49m\u001b[43m,\u001b[49m\n\u001b[0;32m    799\u001b[0m \u001b[43m\u001b[49m\u001b[43m)\u001b[49m\n\u001b[0;32m    801\u001b[0m \u001b[38;5;28;01mif\u001b[39;00m chunksize:\n\u001b[0;32m    802\u001b[0m     \u001b[38;5;28;01mreturn\u001b[39;00m json_reader\n",
      "File \u001b[1;32mc:\\Users\\xskyd\\miniconda3\\lib\\site-packages\\pandas\\io\\json\\_json.py:893\u001b[0m, in \u001b[0;36mJsonReader.__init__\u001b[1;34m(self, filepath_or_buffer, orient, typ, dtype, convert_axes, convert_dates, keep_default_dates, precise_float, date_unit, encoding, lines, chunksize, compression, nrows, storage_options, encoding_errors, dtype_backend, engine)\u001b[0m\n\u001b[0;32m    891\u001b[0m     \u001b[38;5;28mself\u001b[39m\u001b[38;5;241m.\u001b[39mdata \u001b[38;5;241m=\u001b[39m filepath_or_buffer\n\u001b[0;32m    892\u001b[0m \u001b[38;5;28;01melif\u001b[39;00m \u001b[38;5;28mself\u001b[39m\u001b[38;5;241m.\u001b[39mengine \u001b[38;5;241m==\u001b[39m \u001b[38;5;124m\"\u001b[39m\u001b[38;5;124mujson\u001b[39m\u001b[38;5;124m\"\u001b[39m:\n\u001b[1;32m--> 893\u001b[0m     data \u001b[38;5;241m=\u001b[39m \u001b[38;5;28;43mself\u001b[39;49m\u001b[38;5;241;43m.\u001b[39;49m\u001b[43m_get_data_from_filepath\u001b[49m\u001b[43m(\u001b[49m\u001b[43mfilepath_or_buffer\u001b[49m\u001b[43m)\u001b[49m\n\u001b[0;32m    894\u001b[0m     \u001b[38;5;28mself\u001b[39m\u001b[38;5;241m.\u001b[39mdata \u001b[38;5;241m=\u001b[39m \u001b[38;5;28mself\u001b[39m\u001b[38;5;241m.\u001b[39m_preprocess_data(data)\n",
      "File \u001b[1;32mc:\\Users\\xskyd\\miniconda3\\lib\\site-packages\\pandas\\io\\json\\_json.py:949\u001b[0m, in \u001b[0;36mJsonReader._get_data_from_filepath\u001b[1;34m(self, filepath_or_buffer)\u001b[0m\n\u001b[0;32m    941\u001b[0m     filepath_or_buffer \u001b[38;5;241m=\u001b[39m \u001b[38;5;28mself\u001b[39m\u001b[38;5;241m.\u001b[39mhandles\u001b[38;5;241m.\u001b[39mhandle\n\u001b[0;32m    942\u001b[0m \u001b[38;5;28;01melif\u001b[39;00m (\n\u001b[0;32m    943\u001b[0m     \u001b[38;5;28misinstance\u001b[39m(filepath_or_buffer, \u001b[38;5;28mstr\u001b[39m)\n\u001b[0;32m    944\u001b[0m     \u001b[38;5;129;01mand\u001b[39;00m filepath_or_buffer\u001b[38;5;241m.\u001b[39mlower()\u001b[38;5;241m.\u001b[39mendswith(\n\u001b[1;32m   (...)\u001b[0m\n\u001b[0;32m    947\u001b[0m     \u001b[38;5;129;01mand\u001b[39;00m \u001b[38;5;129;01mnot\u001b[39;00m file_exists(filepath_or_buffer)\n\u001b[0;32m    948\u001b[0m ):\n\u001b[1;32m--> 949\u001b[0m     \u001b[38;5;28;01mraise\u001b[39;00m \u001b[38;5;167;01mFileNotFoundError\u001b[39;00m(\u001b[38;5;124mf\u001b[39m\u001b[38;5;124m\"\u001b[39m\u001b[38;5;124mFile \u001b[39m\u001b[38;5;132;01m{\u001b[39;00mfilepath_or_buffer\u001b[38;5;132;01m}\u001b[39;00m\u001b[38;5;124m does not exist\u001b[39m\u001b[38;5;124m\"\u001b[39m)\n\u001b[0;32m    950\u001b[0m \u001b[38;5;28;01melse\u001b[39;00m:\n\u001b[0;32m    951\u001b[0m     warnings\u001b[38;5;241m.\u001b[39mwarn(\n\u001b[0;32m    952\u001b[0m         \u001b[38;5;124m\"\u001b[39m\u001b[38;5;124mPassing literal json to \u001b[39m\u001b[38;5;124m'\u001b[39m\u001b[38;5;124mread_json\u001b[39m\u001b[38;5;124m'\u001b[39m\u001b[38;5;124m is deprecated and \u001b[39m\u001b[38;5;124m\"\u001b[39m\n\u001b[0;32m    953\u001b[0m         \u001b[38;5;124m\"\u001b[39m\u001b[38;5;124mwill be removed in a future version. To read from a \u001b[39m\u001b[38;5;124m\"\u001b[39m\n\u001b[1;32m   (...)\u001b[0m\n\u001b[0;32m    956\u001b[0m         stacklevel\u001b[38;5;241m=\u001b[39mfind_stack_level(),\n\u001b[0;32m    957\u001b[0m     )\n",
      "\u001b[1;31mFileNotFoundError\u001b[0m: File ./d_generados/ciudades.json does not exist"
     ]
    }
   ],
   "source": [
    "# Cargar el archivo JSON utilizando Pandas\n",
    "pandas_ciudades = pd.read_json(\"./d_generados/ciudades.json\")\n",
    "pandas_paises = pd.read_json(\"./d_generados/paises.json\")\n",
    "\n",
    "# Convertir el DataFrame de Pandas a un DataFrame de Spark\n",
    "spark_ciudades = spark.createDataFrame(pandas_ciudades)\n",
    "spark_paises= spark.createDataFrame(pandas_paises)\n",
    "\n",
    "# Juntar los dos DataFrames por la columna 'ID'\n",
    "paises_ciudades_tabla = spark_paises.join(spark_ciudades, spark_paises['id'] == spark_ciudades['id']).select(\n",
    "    spark_paises.id,\n",
    "    spark_paises.id_pais,\n",
    "    spark_ciudades.id_ciudad,\n",
    "    spark_paises.Pais,\n",
    "    spark_ciudades.Ciudad,\n",
    "    spark_ciudades.Coordenadas\n",
    ")"
   ]
  },
  {
   "cell_type": "code",
   "execution_count": null,
   "metadata": {},
   "outputs": [
    {
     "name": "stdout",
     "output_type": "stream",
     "text": [
      "+---+-------+---------+-----------+---------+------------------+\n",
      "| id|id_pais|id_ciudad|       Pais|   Ciudad|       Coordenadas|\n",
      "+---+-------+---------+-----------+---------+------------------+\n",
      "|  1|    201|      101|     España|   Madrid|[40.4168, -3.7038]|\n",
      "|  2|    202|      102|    Francia|Barcelona| [41.3851, 2.1734]|\n",
      "|  3|    203|      103|   Alemania| Valencia|[39.4699, -0.3763]|\n",
      "|  4|    204|      104|     Italia|    Paris| [48.8566, 2.3522]|\n",
      "|  5|    205|      105|Reino Unido|   Berlin|   [52.52, 13.405]|\n",
      "|  6|    206|      106|   Portugal|     Roma|[41.9028, 12.4964]|\n",
      "+---+-------+---------+-----------+---------+------------------+\n",
      "\n"
     ]
    }
   ],
   "source": [
    "paises_ciudades_tabla.show()"
   ]
  },
  {
   "cell_type": "markdown",
   "metadata": {},
   "source": [
    "    Unir por id json entrada y paises."
   ]
  },
  {
   "cell_type": "code",
   "execution_count": null,
   "metadata": {},
   "outputs": [],
   "source": [
    "tabla_casi_final = paises_ciudades_tabla.join(json_mult, on=\"id\", how=\"right\")\n",
    "tabla_casi_final = tabla_casi_final.orderBy(spark_paises.id.asc())"
   ]
  },
  {
   "cell_type": "code",
   "execution_count": null,
   "metadata": {},
   "outputs": [
    {
     "name": "stdout",
     "output_type": "stream",
     "text": [
      "+---+-------+---------+-----------+---------+------------------+----------+--------------------+------+-------------+--------------------+------------+----------------------+---------------------+--------------------+---------------+--------------+--------------------+--------+----------------+----------------------+---------------------+-------+------+--------+----------------+---------+------+-----+----------------+------------------------+\n",
      "| id|id_pais|id_ciudad|       Pais|   Ciudad|       Coordenadas|      date|         dateChecked| death|deathIncrease|                hash|hospitalized|hospitalizedCumulative|hospitalizedCurrently|hospitalizedIncrease|inIcuCumulative|inIcuCurrently|        lastModified|negative|negativeIncrease|onVentilatorCumulative|onVentilatorCurrently|pending|posNeg|positive|positiveIncrease|recovered|states|total|totalTestResults|totalTestResultsIncrease|\n",
      "+---+-------+---------+-----------+---------+------------------+----------+--------------------+------+-------------+--------------------+------------+----------------------+---------------------+--------------------+---------------+--------------+--------------------+--------+----------------+----------------------+---------------------+-------+------+--------+----------------+---------+------+-----+----------------+------------------------+\n",
      "|  1|    201|      101|     España|   Madrid|[40.4168, -3.7038]|2020-05-06|2020-05-06T24:00:00Z|120184|         3631|9bb52e41a6d7dce6b...|      111249|                 68311|                93116|                1948|           9823|         21515|2020-05-06T24:00:00Z| 5080645|          151540|                   661|                 6839|   6128|     0| 1379371|           37798|     null|    56|    0|         9961278|                  453968|\n",
      "|  2|    202|      102|    Francia|Barcelona| [41.3851, 2.1734]|2020-05-06|2020-05-06T24:00:00Z| 90189|         2280|9bb52e41a6d7dce6b...|       96529|                117577|                61112|                2918|           7180|         24116|2020-05-06T24:00:00Z| 4825442|          192553|                   683|                 5674|   5459|     0| 1760957|           33809|     null|    58|    0|        15056671|                  609643|\n",
      "|  3|    203|      103|   Alemania| Valencia|[39.4699, -0.3763]|2020-05-06|2020-05-06T24:00:00Z|117136|         2324|9bb52e41a6d7dce6b...|       96106|                 86323|                93673|                1967|           6556|         17102|2020-05-06T24:00:00Z| 3838696|          187932|                   880|                 9276|   6237|     0| 2174932|           34048|     null|    80|    0|        16239797|                  524831|\n",
      "|  4|    204|      104|     Italia|    Paris| [48.8566, 2.3522]|2020-05-06|2020-05-06T24:00:00Z|109364|         3440|9bb52e41a6d7dce6b...|      123910|                124330|                67468|                1881|           6290|         24432|2020-05-06T24:00:00Z| 5230596|          144657|                   454|                 6381|   5141|     0| 2265725|           52831|     null|    79|    0|        16588641|                  415467|\n",
      "|  5|    205|      105|Reino Unido|   Berlin|   [52.52, 13.405]|2020-05-06|2020-05-06T24:00:00Z| 78455|         3625|9bb52e41a6d7dce6b...|       65257|                 70336|                66852|                2457|           9996|         23103|2020-05-06T24:00:00Z| 5259219|          115655|                   885|                 6352|   4660|     0| 1654169|           29488|     null|   115|    0|        15091029|                  558744|\n",
      "|  6|    206|      106|   Portugal|     Roma|[41.9028, 12.4964]|2020-05-06|2020-05-06T24:00:00Z| 85021|         2804|9bb52e41a6d7dce6b...|      104130|                102951|                86907|                2058|           8288|         21080|2020-05-06T24:00:00Z| 4417875|          193408|                   552|                 5858|   4837|     0| 2283421|           37092|     null|    65|    0|        15781585|                  411716|\n",
      "+---+-------+---------+-----------+---------+------------------+----------+--------------------+------+-------------+--------------------+------------+----------------------+---------------------+--------------------+---------------+--------------+--------------------+--------+----------------+----------------------+---------------------+-------+------+--------+----------------+---------+------+-----+----------------+------------------------+\n",
      "\n"
     ]
    }
   ],
   "source": [
    "tabla_casi_final.show()"
   ]
  },
  {
   "cell_type": "code",
   "execution_count": null,
   "metadata": {},
   "outputs": [],
   "source": [
    "def expand_and_transform_json(df_entrada, num_copies):\n",
    "    # Crear un DataFrame con múltiplos y cambiar el tipo de 'copy_id'\n",
    "    multiplier_df = spark.range(num_copies).withColumn(\"multiplier\", lit(1) + col(\"id\") * lit(0.1))\n",
    "    multiplier_df = multiplier_df.withColumn(\"copy_id\", col(\"id\").cast(\"integer\")).drop(\"id\")\n",
    "    \n",
    "    # Realizar un cross join con el DataFrame original\n",
    "    expanded_df = df_entrada.crossJoin(multiplier_df)\n",
    "\n",
    "    # Aplicar transformaciones a columnas numéricas y convertir a entero\n",
    "    for column in df_entrada.columns:\n",
    "        if column not in ['date', 'id', 'id_pais', 'id_ciudad'] and isinstance(df_entrada.schema[column].dataType, (DoubleType, IntegerType, LongType)):\n",
    "            random_factor = random.uniform(1, 1.5)\n",
    "            expanded_df = expanded_df.withColumn(column, (col(column) * col(\"multiplier\") * random_factor).cast(\"integer\"))\n",
    "    \n",
    "    # Ajustar la fecha según el número de copias\n",
    "    if 'date' in df_entrada.columns:\n",
    "        expanded_df = expanded_df.withColumn('date', date_add(col('date'), col('copy_id')))\n",
    "\n",
    "    expanded_df = expanded_df.drop('multiplier', 'copy_id', 'id')\n",
    "\n",
    "    return expanded_df"
   ]
  },
  {
   "cell_type": "code",
   "execution_count": null,
   "metadata": {},
   "outputs": [],
   "source": [
    "# Se generan datos para 120 dias, lo que equivaldria a 4 meses\n",
    "tabla_final = expand_and_transform_json(tabla_casi_final, 120)"
   ]
  },
  {
   "cell_type": "code",
   "execution_count": null,
   "metadata": {},
   "outputs": [
    {
     "name": "stdout",
     "output_type": "stream",
     "text": [
      "+-------+---------+-----------+--------+------------------+----------+--------------------+------+-------------+--------------------+------------+----------------------+---------------------+--------------------+---------------+--------------+--------------------+--------+----------------+----------------------+---------------------+-------+------+--------+----------------+---------+------+-----+----------------+------------------------+\n",
      "|id_pais|id_ciudad|       Pais|  Ciudad|       Coordenadas|      date|         dateChecked| death|deathIncrease|                hash|hospitalized|hospitalizedCumulative|hospitalizedCurrently|hospitalizedIncrease|inIcuCumulative|inIcuCurrently|        lastModified|negative|negativeIncrease|onVentilatorCumulative|onVentilatorCurrently|pending|posNeg|positive|positiveIncrease|recovered|states|total|totalTestResults|totalTestResultsIncrease|\n",
      "+-------+---------+-----------+--------+------------------+----------+--------------------+------+-------------+--------------------+------------+----------------------+---------------------+--------------------+---------------+--------------+--------------------+--------+----------------+----------------------+---------------------+-------+------+--------+----------------+---------+------+-----+----------------+------------------------+\n",
      "|    206|      106|   Portugal|    Roma|[41.9028, 12.4964]|2020-05-06|2020-05-06T24:00:00Z|120019|         3240|9bb52e41a6d7dce6b...|      114077|                149813|               101002|                2804|           8760|         21217|2020-05-06T24:00:00Z| 6292703|          246566|                   746|                 7781|   5104|     0| 2803590|           39024|     null|    88|    0|        22864569|                  449812|\n",
      "|    206|      106|   Portugal|    Roma|[41.9028, 12.4964]|2020-05-07|2020-05-06T24:00:00Z|132021|         3564|9bb52e41a6d7dce6b...|      125485|                164794|               111102|                3084|           9636|         23338|2020-05-06T24:00:00Z| 6921973|          271222|                   820|                 8559|   5614|     0| 3083949|           42927|     null|    96|    0|        25151026|                  494793|\n",
      "|    206|      106|   Portugal|    Roma|[41.9028, 12.4964]|2020-05-08|2020-05-06T24:00:00Z|144023|         3888|9bb52e41a6d7dce6b...|      136893|                179775|               121202|                3365|          10512|         25460|2020-05-06T24:00:00Z| 7551243|          295879|                   895|                 9337|   6124|     0| 3364308|           46829|     null|   105|    0|        27437483|                  539774|\n",
      "|    206|      106|   Portugal|    Roma|[41.9028, 12.4964]|2020-05-09|2020-05-06T24:00:00Z|156025|         4212|9bb52e41a6d7dce6b...|      148301|                194757|               131303|                3645|          11388|         27582|2020-05-06T24:00:00Z| 8180513|          320536|                   969|                10115|   6635|     0| 3644667|           50732|     null|   114|    0|        29723940|                  584755|\n",
      "|    206|      106|   Portugal|    Roma|[41.9028, 12.4964]|2020-05-10|2020-05-06T24:00:00Z|168027|         4536|9bb52e41a6d7dce6b...|      159708|                209738|               141403|                3926|          12264|         29704|2020-05-06T24:00:00Z| 8809784|          345192|                  1044|                10893|   7145|     0| 3925026|           54634|     null|   123|    0|        32010397|                  629737|\n",
      "|    205|      105|Reino Unido|  Berlin|   [52.52, 13.405]|2020-05-06|2020-05-06T24:00:00Z|110750|         4189|9bb52e41a6d7dce6b...|       71491|                102352|                77694|                3348|          10565|         23253|2020-05-06T24:00:00Z| 7491090|          147442|                  1196|                 8437|   4917|     0| 2030993|           31024|     null|   156|    0|        21864083|                  610444|\n",
      "|    205|      105|Reino Unido|  Berlin|   [52.52, 13.405]|2020-05-07|2020-05-06T24:00:00Z|121826|         4608|9bb52e41a6d7dce6b...|       78640|                112587|                85464|                3682|          11622|         25578|2020-05-06T24:00:00Z| 8240200|          162187|                  1315|                 9281|   5409|     0| 2234092|           34126|     null|   171|    0|        24050491|                  671489|\n",
      "|    205|      105|Reino Unido|  Berlin|   [52.52, 13.405]|2020-05-08|2020-05-06T24:00:00Z|132901|         5027|9bb52e41a6d7dce6b...|       85789|                122822|                93233|                4017|          12678|         27904|2020-05-06T24:00:00Z| 8989309|          176931|                  1435|                10125|   5900|     0| 2437191|           37229|     null|   187|    0|        26236899|                  732533|\n",
      "|    205|      105|Reino Unido|  Berlin|   [52.52, 13.405]|2020-05-09|2020-05-06T24:00:00Z|143976|         5446|9bb52e41a6d7dce6b...|       92938|                133057|               101003|                4352|          13735|         30229|2020-05-06T24:00:00Z| 9738418|          191675|                  1555|                10968|   6392|     0| 2640291|           40331|     null|   202|    0|        28423308|                  793578|\n",
      "|    205|      105|Reino Unido|  Berlin|   [52.52, 13.405]|2020-05-10|2020-05-06T24:00:00Z|155051|         5865|9bb52e41a6d7dce6b...|      100087|                143293|               108772|                4687|          14791|         32554|2020-05-06T24:00:00Z|10487527|          206419|                  1674|                11812|   6884|     0| 2843390|           43434|     null|   218|    0|        30609716|                  854622|\n",
      "|    201|      101|     España|  Madrid|[40.4168, -3.7038]|2020-05-06|2020-05-06T24:00:00Z|169657|         4196|9bb52e41a6d7dce6b...|      121876|                 99405|               108218|                2654|          10382|         21655|2020-05-06T24:00:00Z| 7236734|          193190|                   893|                 9084|   6466|     0| 1693595|           39767|     null|    75|    0|        14432031|                  495973|\n",
      "|    201|      101|     España|  Madrid|[40.4168, -3.7038]|2020-05-07|2020-05-06T24:00:00Z|186623|         4615|9bb52e41a6d7dce6b...|      134064|                109345|               119040|                2919|          11421|         23820|2020-05-06T24:00:00Z| 7960408|          212509|                   982|                 9992|   7113|     0| 1862954|           43744|     null|    83|    0|        15875235|                  545571|\n",
      "|    201|      101|     España|  Madrid|[40.4168, -3.7038]|2020-05-08|2020-05-06T24:00:00Z|203589|         5035|9bb52e41a6d7dce6b...|      146252|                119286|               129862|                3185|          12459|         25986|2020-05-06T24:00:00Z| 8684081|          231828|                  1072|                10901|   7759|     0| 2032314|           47721|     null|    91|    0|        17318438|                  595168|\n",
      "|    201|      101|     España|  Madrid|[40.4168, -3.7038]|2020-05-09|2020-05-06T24:00:00Z|220554|         5455|9bb52e41a6d7dce6b...|      158439|                129227|               140683|                3450|          13497|         28151|2020-05-06T24:00:00Z| 9407755|          251148|                  1161|                11809|   8406|     0| 2201673|           51697|     null|    98|    0|        18761641|                  644766|\n",
      "|    201|      101|     España|  Madrid|[40.4168, -3.7038]|2020-05-10|2020-05-06T24:00:00Z|237520|         5874|9bb52e41a6d7dce6b...|      170627|                139167|               151505|                3716|          14535|         30317|2020-05-06T24:00:00Z|10131428|          270467|                  1250|                12718|   9053|     0| 2371033|           55674|     null|   106|    0|        20204844|                  694363|\n",
      "|    203|      103|   Alemania|Valencia|[39.4699, -0.3763]|2020-05-06|2020-05-06T24:00:00Z|165354|         2685|9bb52e41a6d7dce6b...|      105287|                125616|               108865|                2680|           6929|         17213|2020-05-06T24:00:00Z| 5467735|          239585|                  1189|                12321|   6581|     0| 2670387|           35822|     null|   108|    0|        23528433|                  573393|\n",
      "|    203|      103|   Alemania|Valencia|[39.4699, -0.3763]|2020-05-07|2020-05-06T24:00:00Z|181890|         2954|9bb52e41a6d7dce6b...|      115815|                138177|               119752|                2948|           7622|         18934|2020-05-06T24:00:00Z| 6014509|          263543|                  1308|                13553|   7239|     0| 2937426|           39404|     null|   119|    0|        25881276|                  630733|\n",
      "|    203|      103|   Alemania|Valencia|[39.4699, -0.3763]|2020-05-08|2020-05-06T24:00:00Z|198425|         3223|9bb52e41a6d7dce6b...|      126344|                150739|               130638|                3216|           8315|         20655|2020-05-06T24:00:00Z| 6561283|          287502|                  1427|                14785|   7897|     0| 3204464|           42986|     null|   130|    0|        28234120|                  688072|\n",
      "|    203|      103|   Alemania|Valencia|[39.4699, -0.3763]|2020-05-09|2020-05-06T24:00:00Z|214961|         3491|9bb52e41a6d7dce6b...|      136873|                163301|               141525|                3484|           9008|         22377|2020-05-06T24:00:00Z| 7108056|          311460|                  1546|                16017|   8555|     0| 3471503|           46568|     null|   141|    0|        30586963|                  745411|\n",
      "|    203|      103|   Alemania|Valencia|[39.4699, -0.3763]|2020-05-10|2020-05-06T24:00:00Z|231496|         3760|9bb52e41a6d7dce6b...|      147402|                175862|               152412|                3752|           9701|         24098|2020-05-06T24:00:00Z| 7654830|          335419|                  1665|                17250|   9214|     0| 3738542|           50150|     null|   151|    0|        32939806|                  802751|\n",
      "+-------+---------+-----------+--------+------------------+----------+--------------------+------+-------------+--------------------+------------+----------------------+---------------------+--------------------+---------------+--------------+--------------------+--------+----------------+----------------------+---------------------+-------+------+--------+----------------+---------+------+-----+----------------+------------------------+\n",
      "only showing top 20 rows\n",
      "\n"
     ]
    }
   ],
   "source": [
    "tabla_final.show()"
   ]
  },
  {
   "cell_type": "code",
   "execution_count": null,
   "metadata": {},
   "outputs": [],
   "source": [
    "tabla_final_panda = tabla_final.toPandas()"
   ]
  },
  {
   "cell_type": "code",
   "execution_count": null,
   "metadata": {},
   "outputs": [],
   "source": [
    "tabla_final_panda.to_parquet(\"datos_generados/tabla_datos_mult.parquet\")"
   ]
  },
  {
   "cell_type": "code",
   "execution_count": null,
   "metadata": {},
   "outputs": [],
   "source": [
    "spark.stop()"
   ]
  }
 ],
 "metadata": {
  "kernelspec": {
   "display_name": "base",
   "language": "python",
   "name": "python3"
  },
  "language_info": {
   "codemirror_mode": {
    "name": "ipython",
    "version": 3
   },
   "file_extension": ".py",
   "mimetype": "text/x-python",
   "name": "python",
   "nbconvert_exporter": "python",
   "pygments_lexer": "ipython3",
   "version": "3.10.13"
  }
 },
 "nbformat": 4,
 "nbformat_minor": 2
}
